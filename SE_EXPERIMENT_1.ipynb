{
  "nbformat": 4,
  "nbformat_minor": 0,
  "metadata": {
    "colab": {
      "provenance": [],
      "authorship_tag": "ABX9TyORo+R3A/cSumUAY4vel2uo",
      "include_colab_link": true
    },
    "kernelspec": {
      "name": "python3",
      "display_name": "Python 3"
    },
    "language_info": {
      "name": "python"
    }
  },
  "cells": [
    {
      "cell_type": "markdown",
      "metadata": {
        "id": "view-in-github",
        "colab_type": "text"
      },
      "source": [
        "<a href=\"https://colab.research.google.com/github/Sreeja144/CODES/blob/main/SE_EXPERIMENT_1.ipynb\" target=\"_parent\"><img src=\"https://colab.research.google.com/assets/colab-badge.svg\" alt=\"Open In Colab\"/></a>"
      ]
    },
    {
      "cell_type": "code",
      "execution_count": 2,
      "metadata": {
        "colab": {
          "base_uri": "https://localhost:8080/"
        },
        "id": "dstJ3vVQZee4",
        "outputId": "53ddf36f-0364-4237-829e-02436bce569b"
      },
      "outputs": [
        {
          "output_type": "stream",
          "name": "stdout",
          "text": [
            "Stage 1: Hard-coding variables\n",
            "For temperature 25°C, humidity 60%, and wind speed 10 km/h, the weather variable is: 286.50\n",
            "\n"
          ]
        }
      ],
      "source": [
        "def calculate_weather(temperature, humidity, wind):\n",
        "    weather = 0.5 * temperature**2 - 0.2 * humidity + 0.1 * wind - 15\n",
        "    return weather\n",
        "def stage_1_hard_coding():\n",
        "    print(\"Stage 1: Hard-coding variables\")\n",
        "    temperature = 25\n",
        "    humidity = 60\n",
        "    wind = 10\n",
        "    weather = calculate_weather(temperature, humidity, wind)\n",
        "    print(f\"For temperature {temperature}°C, humidity {humidity}%, and wind speed {wind} km/h, the weather variable is: {weather:.2f}\")\n",
        "    print()\n",
        "stage_1_hard_coding()"
      ]
    },
    {
      "cell_type": "code",
      "source": [
        "def stage_2_keyboard_input():\n",
        "    print(\"Stage 2: Keyboard input\")\n",
        "    temperature = float(input(\"Enter temperature (°C): \"))\n",
        "    humidity = float(input(\"Enter humidity (%): \"))\n",
        "    wind = float(input(\"Enter wind speed (km/h): \"))\n",
        "    weather = calculate_weather(temperature, humidity, wind)\n",
        "    print(f\"The calculated weather variable is: {weather:.2f}\")\n",
        "    print()\n",
        "\n",
        "stage_2_keyboard_input()"
      ],
      "metadata": {
        "colab": {
          "base_uri": "https://localhost:8080/"
        },
        "id": "tzSWWeudZ9or",
        "outputId": "b31b57ae-1d73-4d9c-e9be-a2f3b02179b1"
      },
      "execution_count": 3,
      "outputs": [
        {
          "output_type": "stream",
          "name": "stdout",
          "text": [
            "Stage 2: Keyboard input\n",
            "Enter temperature (°C): 20\n",
            "Enter humidity (%): 5\n",
            "Enter wind speed (km/h): 5\n",
            "The calculated weather variable is: 184.50\n",
            "\n"
          ]
        }
      ]
    },
    {
      "cell_type": "code",
      "source": [
        "def process_file(input_file, output_file):\n",
        "    try:\n",
        "        with open(input_file, 'r') as infile, open(output_file, 'w') as outfile:\n",
        "            for line in infile:\n",
        "                try:\n",
        "                    if line.strip():\n",
        "                        temperature, humidity, wind = map(float, line.split())\n",
        "                        weather = calculate_weather(temperature, humidity, wind)\n",
        "                        outfile.write(f\"Temperature: {temperature}, Humidity: {humidity}, Wind: {wind}, Weather: {weather:.2f}\\n\")\n",
        "                except ValueError:\n",
        "                    print(f\"Skipping invalid line: {line.strip()}\")\n",
        "        print(f\"Results saved to {output_file}.\")\n",
        "    except FileNotFoundError:\n",
        "        print(f\"Error: The file '{input_file}' was not found.\")\n",
        "\n",
        "def stage_3_read_from_file():\n",
        "    print(\"Stage 3: Reading from file\")\n",
        "    input_file = \"input.txt\"\n",
        "    output_file = \"output_data.txt\"\n",
        "    process_file(input_file, output_file)\n",
        "    print()\n",
        "\n",
        "stage_3_read_from_file()"
      ],
      "metadata": {
        "colab": {
          "base_uri": "https://localhost:8080/"
        },
        "id": "X38Gl5ypg6wv",
        "outputId": "6dd012cc-5c56-4da9-9dc9-6b882da687bc"
      },
      "execution_count": 8,
      "outputs": [
        {
          "output_type": "stream",
          "name": "stdout",
          "text": [
            "Stage 3: Reading from file\n",
            "Results saved to output_data.txt.\n",
            "\n"
          ]
        }
      ]
    },
    {
      "cell_type": "code",
      "source": [
        "def stage_4_single_input():\n",
        "    \"\"\"Stage 4: Single set of input\"\"\"\n",
        "    print(\"Stage 4: Single set of input\")\n",
        "    temperature = float(input(\"Enter temperature (°C): \"))\n",
        "    humidity = float(input(\"Enter humidity (%): \"))\n",
        "    wind = float(input(\"Enter wind speed (km/h): \"))\n",
        "    weather = calculate_weather(temperature, humidity, wind)\n",
        "    print(f\"The calculated weather variable for the single input is: {weather:.2f}\")\n",
        "    print()\n",
        "\n",
        "stage_4_single_input()"
      ],
      "metadata": {
        "colab": {
          "base_uri": "https://localhost:8080/"
        },
        "id": "NGZtsmEhg_DN",
        "outputId": "0f5065b1-ba10-487b-d24f-ab228a053434"
      },
      "execution_count": 5,
      "outputs": [
        {
          "output_type": "stream",
          "name": "stdout",
          "text": [
            "Stage 4: Single set of input\n",
            "Enter temperature (°C): 15\n",
            "Enter humidity (%): 4\n",
            "Enter wind speed (km/h): 7\n",
            "The calculated weather variable for the single input is: 97.40\n",
            "\n"
          ]
        }
      ]
    },
    {
      "cell_type": "code",
      "source": [
        "def stage_5_multiple_inputs():\n",
        "    \"\"\"Stage 5: Multiple sets of inputs\"\"\"\n",
        "    print(\"Stage 5: Multiple sets of inputs\")\n",
        "    input_file = \"input1.txt\"  # Input file with multiple sets of data\n",
        "    output_file = \"output_data.txt\"  # Output file to store results\n",
        "    process_file(input_file, output_file)\n",
        "    print()\n",
        "\n",
        "stage_5_multiple_inputs()"
      ],
      "metadata": {
        "colab": {
          "base_uri": "https://localhost:8080/"
        },
        "id": "6cWEdX-phDk9",
        "outputId": "a8943cf5-e830-4d63-9acb-7c92606f2f2a"
      },
      "execution_count": 9,
      "outputs": [
        {
          "output_type": "stream",
          "name": "stdout",
          "text": [
            "Stage 5: Multiple sets of inputs\n",
            "Results saved to output_data.txt.\n",
            "\n"
          ]
        }
      ]
    },
    {
      "cell_type": "code",
      "source": [
        "def main():\n",
        "    \"\"\"Main function to run the different stages of weather modeling\"\"\"\n",
        "    # Stage 1: Hard-coding variables\n",
        "    stage_1_hard_coding()\n",
        "\n",
        "    # Stage 2: Keyboard input\n",
        "    stage_2_keyboard_input()\n",
        "\n",
        "    # Stage 3: Reading from a file\n",
        "    stage_3_read_from_file()\n",
        "\n",
        "    # Stage 4: Single set of input\n",
        "    stage_4_single_input()\n",
        "\n",
        "    # Stage 5: Multiple sets of input\n",
        "    stage_5_multiple_inputs()\n",
        "\n",
        "if __name__ == \"__main__\":\n",
        "    main()"
      ],
      "metadata": {
        "colab": {
          "base_uri": "https://localhost:8080/"
        },
        "id": "UJ0gOHPohMba",
        "outputId": "5f9c2f83-841e-48e9-d709-a0dbd8dcc1d8"
      },
      "execution_count": 10,
      "outputs": [
        {
          "output_type": "stream",
          "name": "stdout",
          "text": [
            "Stage 1: Hard-coding variables\n",
            "For temperature 25°C, humidity 60%, and wind speed 10 km/h, the weather variable is: 286.50\n",
            "\n",
            "Stage 2: Keyboard input\n",
            "Enter temperature (°C): 3\n",
            "Enter humidity (%): 2\n",
            "Enter wind speed (km/h): 7\n",
            "The calculated weather variable is: -10.20\n",
            "\n",
            "Stage 3: Reading from file\n",
            "Results saved to output_data.txt.\n",
            "\n",
            "Stage 4: Single set of input\n",
            "Enter temperature (°C): 5\n",
            "Enter humidity (%): 9\n",
            "Enter wind speed (km/h): 3\n",
            "The calculated weather variable for the single input is: -4.00\n",
            "\n",
            "Stage 5: Multiple sets of inputs\n",
            "Results saved to output_data.txt.\n",
            "\n"
          ]
        }
      ]
    }
  ]
}